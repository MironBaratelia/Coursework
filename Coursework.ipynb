{
  "cells": [
    {
      "cell_type": "markdown",
      "id": "8b12f0b4",
      "metadata": {
        "id": "8b12f0b4"
      },
      "source": [
        "<img src = \"https://lh3.googleusercontent.com/u/0/drive-viewer/AKGpihan-Z3J8eNIfjKxs7kjn3-UP06mTZ5YMCjoId4lu1rtyGO4tQ2krk9w4pjgc2PnmAU2HeipCFNLa8plaHrzGswnc4Du5g=w3584-h1998\">"
      ]
    },
    {
      "cell_type": "markdown",
      "id": "820b9cd0",
      "metadata": {
        "id": "820b9cd0"
      },
      "source": [
        "# Оптимизация портфеля криптовалют за счет учета влияния новостного фона\n",
        "\n",
        "## Курсовой проект\n",
        "\n",
        "**Выполнили студенты:**\n",
        "- 2 курс БПМИ227 Мирон Барателиа\n",
        "- 2 курс БПМИ227 Александр Мищенко"
      ]
    },
    {
      "cell_type": "markdown",
      "id": "24943b62",
      "metadata": {
        "id": "24943b62"
      },
      "source": [
        "## Оглавление"
      ]
    },
    {
      "cell_type": "markdown",
      "id": "8cc62fcf",
      "metadata": {
        "id": "8cc62fcf"
      },
      "source": [
        "* **[1. Введение](#1)**\n",
        "\n",
        "\n",
        "* **[2. Извлечение данных о криптовалютах](#2)**\n",
        "    * [2.1. Описание](#2.1)    \n",
        "    * [2.2. Функция для получения исторических данных](#2.2)\n",
        "    * [2.3. Получение и сохранение данных](#2.3)\n",
        "    * [2.4. Обработка данных](#2.4)\n",
        "    \n",
        "    \n",
        "* **[3. Визуализируем полученные данные](#3)**\n",
        "    * [3.1. Линейные графики временных рядов](#3.1)    \n",
        "    * [3.2. Гистограммы распределения цен](#3.2)\n",
        "    * [3.3. Корреляционная матрица](#3.3)\n",
        "    \n",
        "\n",
        "* **[4. Модель Марковица](#4)**     \n",
        "    * [4.1. Описание](#4.1)\n",
        "    * [4.2. Подготовка данных](#4.2)\n",
        "    * [4.3. Функции для расчета портфельной доходности и волатильности](#4.3)\n",
        "    * [4.4. Оптимизация](#4.4)  \n",
        "    * [4.5. Вывод оптимальных весов](#4.5)  \n",
        "\n",
        "\n",
        "* **[5. Модель Блэка-Литтермана](#5)**      \n",
        "    * [5.1. Описание](#5.1)\n",
        "    * [5.2. Оптимизация](#5.2)\n",
        "    * [5.3. Вывод оптимальных весов](#5.3)\n",
        "\n",
        "\n",
        "* **[6. Нейронные сети](#6)**      \n",
        "    * [6.1. Описание](#6.1)\n",
        "    * [6.2. Предобработка данных](#6.2)\n",
        "    * [6.3. Создание модели](#6.3)\n",
        "    * [6.4. Обучение и прогнозирование](#6.4)  \n",
        "    * [6.5. Оптимизация портфеля](#6.5)\n",
        "    * [6.6. Вывод оптимальных весов](#6.6)\n",
        "    \n",
        "\n",
        "* **[7. Обработка новостей](#7)**    \n",
        "    * [7.1. Описание](#7.1)\n",
        "    * [7.2. Функция для получения новостей о криптовалюте](#7.2)\n",
        "    * [7.3. Получение новостей](#7.3)\n",
        "    * [7.4. Анализ тональности новостей](#7.4)\n",
        "    * [7.5. Визуализируем полученную информацию](#7.5)\n",
        "\n",
        "\n",
        "* **[8. Метод Марковица + новостной фон](#8)**    \n",
        "    * [8.1. Описание](#8.1)\n",
        "    * [8.2. Функции для расчета портфельной доходности и волатильности с учетом новостей](#8.2)\n",
        "    * [8.3. Оптимизация портфеля с учетом новостей](#8.3)\n",
        "    * [8.4. Вывод оптимальных весов](#8.4)\n",
        "\n",
        "\n",
        "* **[9. Обработка новостей за весь промежуток наблюдения](#9)**\n",
        "    * [9.1. Описание](#9.1)\n",
        "    * [9.2. Функция для получения новостей о криптовалюте](#9.2)\n",
        "    * [9.3. Функция для построения DataFrame с влиянием новостей](#9.3)\n",
        "    * [9.4. Получение новостей и анализ тональности новостей](#9.4)\n",
        "    * [9.5. Визуализация полученной информации](#9.5)\n",
        "    \n",
        "    \n",
        "* **[10. Нейросеть + новостной фон](#10)**\n",
        "    * [10.1. Описание](#10.1)\n",
        "    * [10.2. Подготовка данных](#10.2)\n",
        "    * [10.3. Фнункия для построения портфеля при известных доходах](#10.3)\n",
        "    * [10.4. Создание обучающих данных](#10.4)\n",
        "    * [10.5. Создание модели](#10.5)\n",
        "    * [10.6. Вывод оптимальных весов](#10.6)\n",
        "    \n",
        "   \n",
        "* **[11. Итоговая модель](#11)**\n",
        "    * [11.1. Описание](#11.1)\n",
        "    * [11.2. Создание обучающих данных](#11.2)\n",
        "    * [11.3. Создание модели](#11.3)\n",
        "    * [11.4. Предсказание изменения курса](#11.4)\n",
        "    * [11.5. Метод Марковица](#11.5)\n",
        "    * [11.6. Вывод оптимальных весов](#11.6)"
      ]
    },
    {
      "cell_type": "markdown",
      "id": "a102a46c",
      "metadata": {
        "id": "a102a46c"
      },
      "source": [
        "<a id='1'></a>\n",
        "# 1. Введение"
      ]
    },
    {
      "cell_type": "markdown",
      "id": "c004886e",
      "metadata": {
        "id": "c004886e"
      },
      "source": [
        "**Оптимизация портфеля** - это процесс выбора наилучшего сочетания активов для достижения определенных инвестиционных целей при заданном уровне риска. В контексте криптовалют это может включать в себя анализ исторических данных о ценах, волатильности и корреляции между различными криптовалютами.\n",
        "\n",
        "Однако, криптовалюты особенно чувствительны к новостям. Новости могут оказывать значительное влияние на цены криптовалют, их волатильность и корреляцию. Поэтому, для эффективной оптимизации портфеля криптовалют, важно учитывать влияние новостного фона.\n",
        "\n",
        "В этом проекте мы рассмотрим два подхода к оптимизации портфеля криптовалют с учетом новостного фона: метод Марковица и использование нейронных сетей. Мы также рассмотрим, как можно извлечь и обработать данные о криптовалютах и новостях, а также как визуализировать эти данные для лучшего понимания.\n",
        "\n",
        "Цель этого проекта - исследовать и придумать различные стратегии оптимизации портфеля криптовалют, спосбные учитывать новостной фон."
      ]
    },
    {
      "cell_type": "markdown",
      "id": "d5d12c55",
      "metadata": {
        "id": "d5d12c55"
      },
      "source": [
        "**Запускать ячейки нужно последовательно!** \\\n",
        "Некоторые функции и рассчеты определены в других разделах и не дублируются для более удобной подачи материала."
      ]
    },
    {
      "cell_type": "markdown",
      "id": "090c94ba",
      "metadata": {
        "id": "090c94ba"
      },
      "source": [
        "<a id='2'></a>\n",
        "# 2. Извлечение данных о криптовалютах\n"
      ]
    },
    {
      "cell_type": "markdown",
      "id": "b01586c8",
      "metadata": {
        "id": "b01586c8"
      },
      "source": [
        "<a id='2.1'></a>\n",
        "## 2.1. Описание\n",
        "\n",
        "Код использует **API CoinGecko** для получения исторических данных о криптовалютах.\n",
        "\n",
        "1. **Надежность и точность:** CoinGecko - это один из самых надежных источников данных о криптовалютах, предоставляющий точную информацию о ценах, объемах торгов и других важных метриках.\n",
        "2. **Широкий спектр данных:** CoinGecko предоставляет данные по большому количеству криптовалют, что позволяет анализировать различные активы и строить диверсифицированный портфель.\n",
        "3. **Бесплатное использование:** API CoinGecko бесплатен и не требует аутентификации, что упрощает его использование.\n",
        "\n",
        "Код предусматривает возможность сбоев при получении данных, поэтому он выполняет несколько попыток запроса данных для каждой криптовалюты. Если данные успешно получены, они сохраняются в датафрейме df.\n",
        "\n",
        "После получения всех данных, они сохраняются в датафрейме df для дальнейшего анализа. \\\n",
        "Если в датафрейме отсутствует столбец ‘tether’, он создается и заполняется единицами, так как Tether (USDT) - это стабильная монета, цена которой всегда приближенно равна 1$.\n"
      ]
    },
    {
      "cell_type": "code",
      "execution_count": null,
      "id": "cc863342",
      "metadata": {
        "id": "cc863342"
      },
      "outputs": [],
      "source": [
        "# Импорт необходимых библиотек\n",
        "import requests\n",
        "import pandas as pd\n",
        "import time\n",
        "from termcolor import colored\n"
      ]
    },
    {
      "cell_type": "markdown",
      "id": "283860f8",
      "metadata": {
        "id": "283860f8"
      },
      "source": [
        "<a id='2.2'></a>\n",
        "## 2.2. Функция для получения исторических данных\n"
      ]
    },
    {
      "cell_type": "code",
      "execution_count": null,
      "id": "f7a70c7e",
      "metadata": {
        "id": "f7a70c7e"
      },
      "outputs": [],
      "source": [
        "def get_historical_data(crypto, days):\n",
        "    url = f'https://api.coingecko.com/api/v3/coins/{crypto}/market_chart?vs_currency=usd&days={days}'\n",
        "    try:\n",
        "        response = requests.get(url)\n",
        "        data = response.json()\n",
        "        prices = data['prices']\n",
        "        # Округляем время до ближайшего часа\n",
        "        rounded_timestamps = [round(timestamp / 3600000) * 3600000 for timestamp, _ in prices]\n",
        "        print(colored('Данные успешно получены', 'green'))\n",
        "        return pd.DataFrame({'timestamp': rounded_timestamps, crypto: [price for _, price in prices]})\n",
        "    except Exception as e:\n",
        "        print(colored('Не удалось получить данные', 'red'))\n",
        "    return None\n"
      ]
    },
    {
      "cell_type": "markdown",
      "id": "187ce2b1",
      "metadata": {
        "id": "187ce2b1"
      },
      "source": [
        "<a id='2.3'></a>\n",
        "## 2.3. Получение и сохранение данных\n",
        "\n",
        "Нужно заметить, что не все запросы успешно приходят. В связи с этим производится несколько попыток с небольшим интервалов, до тех пор пока информация о всех криптовалютах не будет получена, либо лимит попыток не будет исчерпан."
      ]
    },
    {
      "cell_type": "code",
      "execution_count": null,
      "id": "0a53079b",
      "metadata": {
        "id": "0a53079b"
      },
      "outputs": [],
      "source": [
        "# Список криптовалют\n",
        "crypto_list = ['bitcoin', 'ethereum', 'ripple', 'solana', 'cardano', 'dogecoin', 'polkadot', 'binancecoin', 'tether']\n",
        "\n",
        "# Создаем пустой датафрейм для сохранения данных\n",
        "df = pd.DataFrame()\n",
        "\n",
        "# Получение данных для каждой криптовалюты в списке\n",
        "for i in range(30):  # Попытки запроса\n",
        "    for crypto in crypto_list:\n",
        "        if crypto not in df.columns:\n",
        "            print(f'Попытка {i+1}, Криптовалюта: {crypto}')\n",
        "            historical_data = get_historical_data(crypto, 90)  # Получение данных за последние n дней\n",
        "            if historical_data is not None:\n",
        "                if df.empty:\n",
        "                    df = historical_data\n",
        "                else:\n",
        "                    # Объединяем данные по времени\n",
        "                    df = pd.merge(df, historical_data, on='timestamp', how='outer')\n",
        "\n",
        "    if (len(crypto_list) == len(df.columns) - 1):\n",
        "        break\n",
        "    time.sleep(5)  # Задержка перед следующей попыткой\n"
      ]
    },
    {
      "cell_type": "markdown",
      "id": "874866af",
      "metadata": {
        "id": "874866af"
      },
      "source": [
        "<a id='2.4'></a>\n",
        "## 2.4. Обработка данных\n"
      ]
    },
    {
      "cell_type": "code",
      "execution_count": null,
      "id": "7d465953",
      "metadata": {
        "id": "7d465953"
      },
      "outputs": [],
      "source": [
        "# Преобразование столбца 'timestamp' в формат datetime\n",
        "df.loc[:, 'timestamp'] = pd.to_datetime(df['timestamp'], unit='ms')\n",
        "\n",
        "#Объединяем случайные повторения, если они имеются\n",
        "df = df.groupby('timestamp').median().reset_index()\n",
        "\n",
        "#Сохраним список криптовалют, котрые мы смогли скачать\n",
        "crypto_names = df.columns[1:]\n",
        "\n",
        "# Проверка наличия столбца 'tether' в датафрейме\n",
        "if 'tether' not in df.columns:\n",
        "    df['tether'] = 1\n"
      ]
    },
    {
      "cell_type": "markdown",
      "id": "9a3bd9fe",
      "metadata": {
        "id": "9a3bd9fe"
      },
      "source": [
        "Теперь у нас есть датафрейм с историческими данными о криптовалютах из списка.\n"
      ]
    },
    {
      "cell_type": "code",
      "execution_count": null,
      "id": "99bc8803",
      "metadata": {
        "id": "99bc8803"
      },
      "outputs": [],
      "source": [
        "df"
      ]
    },
    {
      "cell_type": "markdown",
      "id": "b2433c11",
      "metadata": {
        "id": "b2433c11"
      },
      "source": [
        "<a id='3'></a>\n",
        "# 3. Визуализируем полученные данные"
      ]
    },
    {
      "cell_type": "markdown",
      "id": "a1ca6936",
      "metadata": {
        "id": "a1ca6936"
      },
      "source": [
        "<a id='3.1'></a>\n",
        "## 3.1. Линейные графики временных рядов\n",
        "Эти графики показывают, как цена каждой криптовалюты менялась со временем."
      ]
    },
    {
      "cell_type": "code",
      "execution_count": null,
      "id": "4401558a",
      "metadata": {
        "id": "4401558a"
      },
      "outputs": [],
      "source": [
        "import plotly.graph_objects as go\n",
        "\n",
        "fig = go.Figure()\n",
        "df_temp = df.copy()\n",
        "\n",
        "for crypto in df.columns[1:]:\n",
        "    if crypto != 'timestamp':\n",
        "        # Смотрим, как изменилась бы цена, при покупку 1$ месяц назад\n",
        "        if df_temp[crypto].dropna().shape[0] > 0:  # Проверяем, есть ли в столбце какие-либо ненулевые значения\n",
        "            df_temp.loc[:, crypto] = df_temp[crypto] / df_temp[crypto].dropna().iloc[0]\n",
        "        # Удаление строк с отсутствующими данными\n",
        "        df_temp.dropna(subset=[crypto], inplace=True)\n",
        "        fig.add_trace(go.Scatter(x=df_temp['timestamp'], y=df_temp[crypto], mode='lines', name=crypto))\n",
        "\n",
        "fig.update_layout(\n",
        "    title='Изменение курса криптовалют',\n",
        "    xaxis_title='Дата',\n",
        "    yaxis_title='Цена',\n",
        "    plot_bgcolor='rgb(10,10,10)',\n",
        "    paper_bgcolor='rgb(10,10,10)',\n",
        "    font=dict(color='rgb(255,255,255)'),\n",
        "    hovermode='x',\n",
        "    autosize=True,\n",
        "    margin=dict(l=30, r=30, b=20, t=40),\n",
        "    legend=dict(font=dict(size=10), yanchor='middle', xanchor='right'),\n",
        ")\n",
        "\n",
        "fig.show()\n"
      ]
    },
    {
      "cell_type": "markdown",
      "id": "c7061ab7",
      "metadata": {
        "id": "c7061ab7"
      },
      "source": [
        "<a id='3.2'></a>\n",
        "## 3.2. Гистограммы распределения цен\n",
        "Эти графики показывают, как часто встречаются различные цены для каждой криптовалюты."
      ]
    },
    {
      "cell_type": "code",
      "execution_count": null,
      "id": "937401a8",
      "metadata": {
        "id": "937401a8"
      },
      "outputs": [],
      "source": [
        "import matplotlib.pyplot as plt\n",
        "import seaborn as sns\n",
        "import numpy as np\n",
        "\n",
        "# Количество криптовалют\n",
        "num_assets = len(df.columns[1:])\n",
        "\n",
        "# Количество строк и столбцов для субплотов\n",
        "num_rows = int(np.ceil(num_assets / 3))\n",
        "num_cols = min(num_assets, 3)"
      ]
    },
    {
      "cell_type": "code",
      "execution_count": null,
      "id": "846b76e7",
      "metadata": {
        "id": "846b76e7"
      },
      "outputs": [],
      "source": [
        "# Создание фигуры и осей\n",
        "fig, axs = plt.subplots(num_rows, num_cols, figsize=(15, num_rows*3.5))\n",
        "\n",
        "# Построение гистограмм для каждой криптовалюты\n",
        "for i, column in enumerate(df.columns[1:]):\n",
        "    if num_rows == 1:\n",
        "        if num_cols == 1:\n",
        "            ax = axs\n",
        "        else:\n",
        "            ax = axs[i % num_cols]\n",
        "    else:\n",
        "        ax = axs[i // num_cols, i % num_cols]\n",
        "    sns.histplot(df[column], bins=30, kde=True, ax=ax)\n",
        "    ax.set_title(f'Distribution of prices for {column}')\n",
        "    ax.set_xlabel('Price')\n",
        "    ax.set_ylabel('Frequency')\n",
        "\n",
        "# Удаление пустых субплотов\n",
        "if num_assets % num_cols != 0:\n",
        "    for ax in axs.flatten()[num_assets:]:\n",
        "        fig.delaxes(ax)\n",
        "\n",
        "plt.tight_layout()\n",
        "plt.show()\n"
      ]
    },
    {
      "cell_type": "markdown",
      "id": "9b91cb91",
      "metadata": {
        "id": "9b91cb91"
      },
      "source": [
        "<a id='3.3'></a>\n",
        "## 3.3. Корреляционная матрица\n",
        "Этот график показывает, как связаны цены различных криптовалют."
      ]
    },
    {
      "cell_type": "code",
      "execution_count": null,
      "id": "13860423",
      "metadata": {
        "id": "13860423"
      },
      "outputs": [],
      "source": [
        "# Расчет корреляционной матрицы\n",
        "corr_matrix = df[df.columns[1:]].corr()\n",
        "\n",
        "# Построение тепловой карты корреляционной матрицы\n",
        "plt.figure(figsize=(14,7))\n",
        "sns.heatmap(corr_matrix, annot=True, cmap='coolwarm')\n",
        "plt.title('Correlation matrix of cryptocurrency prices')\n",
        "plt.show()"
      ]
    },
    {
      "cell_type": "markdown",
      "id": "6a751688",
      "metadata": {
        "id": "6a751688"
      },
      "source": [
        "<a id='4'></a>\n",
        "# 4. Модель Марковица"
      ]
    },
    {
      "cell_type": "markdown",
      "id": "c4255b2e",
      "metadata": {
        "id": "c4255b2e"
      },
      "source": [
        "<a id='4.1'></a>\n",
        "## 4.1. Описание"
      ]
    },
    {
      "cell_type": "markdown",
      "id": "f2367128",
      "metadata": {
        "id": "f2367128"
      },
      "source": [
        "**Модель Марковица** - это теория портфеля, которая позволяет определить оптимальный портфель, минимизируя риск при заданном уровне ожидаемой доходности. Она основана на двух основных параметрах: средней доходности и стандартном отклонении (или волатильности) доходности.\n",
        "\n",
        "Программа реализует метод оптимизации портфеля, известный как **минимизация волатильности**. Этот подход используется для определения весов криптовалют в портфеле, которые минимизируют общую волатильность портфеля при заданных ожидаемых доходностях.\n",
        "\n",
        "Волатильность портфеля рассчитывается по формуле:\n",
        "\n",
        "$$\\sigma_p = \\sqrt{w^T \\Sigma w}$$\n",
        "\n",
        "- $\\sigma_p$ - волатильность портфеля,\n",
        "- $w$ - вектор весов портфеля,\n",
        "- $\\Sigma$ - матрица ковариации доходностей.\n",
        "\n",
        "Ожидаемая доходность портфеля рассчитывается по формуле:\n",
        "\n",
        "$$\\mu_p = w^T \\mu$$\n",
        "\n",
        "- $\\mu_p$ - ожидаемая доходность портфеля,\n",
        "- $\\mu$ - вектор средних доходностей.\n",
        "\n",
        "**Цель оптимизации** - найти такой вектор весов $w$, который минимизирует $\\sigma_p$ при заданном $\\mu_p$. Это достигается с помощью метода оптимизации SLSQP из библиотеки scipy.optimize.\n",
        "\n",
        "Важно отметить, что в данном случае мы не учитываем ожидаемую доходность портфеля, а стремимся минимизировать только волатильность. Это полезно в случаях, когда инвестор предпочитает стабильность и хочет избежать риска больших колебаний цен."
      ]
    },
    {
      "cell_type": "code",
      "execution_count": null,
      "id": "7cb6101b",
      "metadata": {
        "id": "7cb6101b"
      },
      "outputs": [],
      "source": [
        "import numpy as np\n",
        "from tqdm import tqdm\n",
        "from scipy.optimize import minimize\n"
      ]
    },
    {
      "cell_type": "markdown",
      "id": "80ac61b5",
      "metadata": {
        "id": "80ac61b5"
      },
      "source": [
        "<a id='4.2'></a>\n",
        "## 4.2. Подготовка данных\n",
        "Мы удаляем столбец 'timestamp' из нашего датафрейма и рассчитываем ожидаемую доходность и ковариацию.\n"
      ]
    },
    {
      "cell_type": "code",
      "execution_count": null,
      "id": "2d0e83c4",
      "metadata": {
        "id": "2d0e83c4"
      },
      "outputs": [],
      "source": [
        "df_cripto = df.drop(columns=['timestamp'])\n",
        "\n",
        "# Рассчитываем ожидаемую доходность и ковариацию\n",
        "returns = df_cripto.pct_change()\n",
        "mean_returns = returns.mean()\n",
        "cov_matrix = returns.cov()\n",
        "\n"
      ]
    },
    {
      "cell_type": "markdown",
      "id": "bc855e08",
      "metadata": {
        "id": "bc855e08"
      },
      "source": [
        "<a id='4.3'></a>\n",
        "## 4.3. Функции для расчета портфельной доходности и волатильности\n",
        "Мы определяем две функции: одну для расчета портфельной доходности и волатильности, и другую для минимизации волатильности.\n"
      ]
    },
    {
      "cell_type": "code",
      "execution_count": null,
      "id": "cfbfc32d",
      "metadata": {
        "id": "cfbfc32d"
      },
      "outputs": [],
      "source": [
        "def portfolio_performance(weights, mean_returns, cov_matrix):\n",
        "    returns = np.sum(mean_returns*weights)*252\n",
        "    std = np.sqrt(np.dot(weights.T, np.dot(cov_matrix, weights)))*np.sqrt(252)\n",
        "    return std, returns\n",
        "\n",
        "def maximize_returns(weights, mean_returns, cov_matrix):\n",
        "    return -portfolio_performance(weights, mean_returns, cov_matrix)[1]\n",
        "\n"
      ]
    },
    {
      "cell_type": "markdown",
      "id": "593f3479",
      "metadata": {
        "id": "593f3479"
      },
      "source": [
        "<a id='4.4'></a>\n",
        "## 4.4. Оптимизация\n",
        "Мы запускаем процесс оптимизации 1000 раз с различными случайными начальными весами.\n"
      ]
    },
    {
      "cell_type": "code",
      "execution_count": null,
      "id": "07d6107b",
      "metadata": {
        "id": "07d6107b"
      },
      "outputs": [],
      "source": [
        "# Максимальный уровень риска\n",
        "max_risk = 0.2\n",
        "\n",
        "# Количество запусков оптимизации\n",
        "num_runs = 1000\n",
        "best_return = -np.inf\n",
        "best_weights = None\n",
        "\n",
        "for _ in tqdm(range(num_runs)):\n",
        "    # Случайные начальные веса\n",
        "    weights = np.random.random(len(mean_returns))\n",
        "    weights /= np.sum(weights)\n",
        "\n",
        "    # Оптимизация\n",
        "    result = minimize(maximize_returns, weights, args=(mean_returns, cov_matrix), method='SLSQP', bounds=[(0.0, 1.0) for asset in range(num_assets)], constraints=[{'type': 'eq', 'fun': lambda x: np.sum(x) - 1}, {'type': 'ineq', 'fun': lambda x: max_risk - portfolio_performance(x, mean_returns, cov_matrix)[0]}])\n",
        "\n",
        "    # Если текущий результат лучше предыдущего лучшего, обновляем лучший результат\n",
        "    if -result.fun > best_return:\n",
        "        best_return = -result.fun\n",
        "        best_weights = result.x\n",
        "\n"
      ]
    },
    {
      "cell_type": "markdown",
      "id": "8eb44f9d",
      "metadata": {
        "id": "8eb44f9d"
      },
      "source": [
        "<a id='4.5'></a>\n",
        "## 4.5. Вывод оптимальных весов\n"
      ]
    },
    {
      "cell_type": "code",
      "execution_count": null,
      "id": "3117d08b",
      "metadata": {
        "id": "3117d08b"
      },
      "outputs": [],
      "source": [
        "best_weights_rounded = np.round(best_weights, 4)\n",
        "\n",
        "display(pd.DataFrame({'Crypto': crypto_names, 'Weight': best_weights_rounded}))\n"
      ]
    },
    {
      "cell_type": "markdown",
      "id": "9f51b8b0",
      "metadata": {
        "id": "9f51b8b0"
      },
      "source": [
        "<a id='5'></a>\n",
        "# 5. Модель Блэка-Литтермана"
      ]
    },
    {
      "cell_type": "markdown",
      "id": "f0d1d6ad",
      "metadata": {
        "id": "f0d1d6ad"
      },
      "source": [
        "<a id='5.1'></a>\n",
        "## 5.1. Описание"
      ]
    },
    {
      "cell_type": "markdown",
      "id": "52830263",
      "metadata": {
        "id": "52830263"
      },
      "source": [
        "**Модель Блэка-Литтермана** - это модификация модели Марковица, которая позволяет инвесторам внести свои собственные прогнозы относительно ожидаемой доходности активов. Это достигается путем введения параметра “доверия” к собственным прогнозам и последующего объединения этих прогнозов с историческими данными.\n",
        "\n",
        "Важным отличием модели Блэка-Литтермана от модели Марковица является то, что она позволяет инвесторам **учитывать свои собственные прогнозы доходности**, а не полагаться только на исторические данные.\n",
        "\n",
        "**Цель оптимизации** - такая же, как и в модели Марковица: найти такой вектор весов $w$, который минимизирует $\\sigma_p$ при заданном $\\mu_{BL}$."
      ]
    },
    {
      "cell_type": "markdown",
      "id": "01b40f25",
      "metadata": {
        "id": "01b40f25"
      },
      "source": [
        "<a id='5.2'></a>\n",
        "## 5.2. Оптимизация\n",
        "\n",
        "Функция для расчета портфельной доходности и волатильности, а так же функция для максимизации ожидаемой доходности остаются без изменений"
      ]
    },
    {
      "cell_type": "code",
      "execution_count": null,
      "id": "3161ba07",
      "metadata": {
        "id": "3161ba07"
      },
      "outputs": [],
      "source": [
        "# Прогнозы ожидаемой доходности от инвестора\n",
        "my_expected_returns = np.random.normal(loc=0.05, scale=0.1, size=len(crypto_names))\n",
        "\n",
        "# Определите максимальный уровень риска, который вы готовы принять\n",
        "max_risk = 0.2\n",
        "\n",
        "num_runs = 1000\n",
        "best_return = -np.inf\n",
        "best_weights = None\n",
        "\n",
        "for _ in tqdm(range(num_runs)):\n",
        "    # Случайные начальные веса\n",
        "    weights = np.random.random(len(my_expected_returns))\n",
        "    weights /= np.sum(weights)\n",
        "\n",
        "    # Оптимизация\n",
        "    result = minimize(maximize_returns, weights, args=(my_expected_returns, cov_matrix), method='SLSQP', bounds=[(0.0, 1.0) for asset in range(num_assets)], constraints=[{'type': 'eq', 'fun': lambda x: np.sum(x) - 1}, {'type': 'ineq', 'fun': lambda x: max_risk - portfolio_performance(x, my_expected_returns, cov_matrix)[0]}])\n",
        "\n",
        "    # Если текущий результат лучше предыдущего лучшего, обновляем лучший результат\n",
        "    if -result.fun > best_return:\n",
        "        best_return = -result.fun\n",
        "        best_weights = result.x\n"
      ]
    },
    {
      "cell_type": "markdown",
      "id": "45f0325b",
      "metadata": {
        "id": "45f0325b"
      },
      "source": [
        "<a id='5.3'></a>\n",
        "## 5.3. Вывод оптимальных весов\n"
      ]
    },
    {
      "cell_type": "code",
      "execution_count": null,
      "id": "dcbc383b",
      "metadata": {
        "id": "dcbc383b"
      },
      "outputs": [],
      "source": [
        "best_weights_rounded = np.round(best_weights, 4)\n",
        "\n",
        "display(pd.DataFrame({'Crypto': crypto_names, 'Weight': best_weights_rounded}))\n"
      ]
    },
    {
      "cell_type": "markdown",
      "id": "b1c53afb",
      "metadata": {
        "id": "b1c53afb"
      },
      "source": [
        "В дальнейшем мы будем использовать Модель Марковица, но при необходимости ее легко преобразовать в модель Блэка-Литтермана, просто заменив прогноз, вычисляемый программной, на прогноз инвестора."
      ]
    },
    {
      "cell_type": "markdown",
      "id": "f35af2f6",
      "metadata": {
        "id": "f35af2f6"
      },
      "source": [
        "<a id='6'></a>\n",
        "# 6. Нейронные сети"
      ]
    },
    {
      "cell_type": "markdown",
      "id": "9d964632",
      "metadata": {
        "id": "9d964632"
      },
      "source": [
        "<a id='5.1'></a>\n",
        "## 6.1. Описание"
      ]
    },
    {
      "cell_type": "markdown",
      "id": "a84def29",
      "metadata": {
        "id": "a84def29"
      },
      "source": [
        "Программа реализует стратегию оптимизации портфеля с использованием нейронной сети для прогнозирования доходности криптовалют.\n",
        "\n",
        "Нейронная сеть обучается на исторических данных о доходности криптовалют с целью прогнозирования будущих значений. Затем эти прогнозы используются для определения оптимальных весов портфеля, которые максимизируют ожидаемую доходность.\n",
        "\n",
        "Оптимизация портфеля осуществляется путем минимизации функции optimize_portfolio, которая возвращает отрицательное значение прогнозируемой доходности портфеля. Это эквивалентно максимизации прогнозируемой доходности.\n",
        "\n",
        "Оптимизация выполняется с использованием метода SLSQP из библиотеки scipy.optimize. Веса портфеля ограничены так, что они не могут быть меньше 0 или больше 1 и их сумма должна быть равна 1. Это соответствует реальной ситуации, поскольку у инвестора есть ограниченный бюджет, который он может распределить между различными активами.\n",
        "\n",
        "В результате оптимизации получаются веса, которые максимизируют прогнозируемую доходность портфеля при заданных ограничениях. Эти веса можно использовать для распределения инвестиций между криптовалютами."
      ]
    },
    {
      "cell_type": "code",
      "execution_count": null,
      "id": "a5e92169",
      "metadata": {
        "id": "a5e92169"
      },
      "outputs": [],
      "source": [
        "import pandas as pd\n",
        "import numpy as np\n",
        "from keras.models import Sequential\n",
        "from keras.layers import Dense, Dropout\n",
        "from scipy.optimize import minimize\n",
        "from tqdm.keras import TqdmCallback\n",
        "import random\n",
        "import tensorflow as tf"
      ]
    },
    {
      "cell_type": "markdown",
      "id": "a0aff4fc",
      "metadata": {
        "id": "a0aff4fc"
      },
      "source": [
        "<a id='6.2'></a>\n",
        "## 6.2. Предобработка данных\n",
        "Мы заполняем пропущенные значения и рассчитываем процентное изменение.\n"
      ]
    },
    {
      "cell_type": "code",
      "execution_count": null,
      "id": "ad9d4603",
      "metadata": {
        "id": "ad9d4603"
      },
      "outputs": [],
      "source": [
        "# Установка seed для повторяемости результатов\n",
        "np.random.seed(0)\n",
        "random.seed(0)\n",
        "tf.random.set_seed(0)\n"
      ]
    },
    {
      "cell_type": "code",
      "execution_count": null,
      "id": "0ef5ee11",
      "metadata": {
        "id": "0ef5ee11"
      },
      "outputs": [],
      "source": [
        "df_cripto = df.drop(columns=['timestamp'])\n",
        "df_cripto.fillna(method ='pad', inplace = True)\n",
        "df_cripto = df_cripto.pct_change()\n",
        "df_cripto.dropna(how='any', inplace=True)\n"
      ]
    },
    {
      "cell_type": "markdown",
      "id": "a85462c2",
      "metadata": {
        "id": "a85462c2"
      },
      "source": [
        "<a id='6.3'></a>\n",
        "## 6.3. Создание модели\n",
        "\n",
        "Создаем модель с тремя слоями и компилируем ее.\n"
      ]
    },
    {
      "cell_type": "code",
      "execution_count": null,
      "id": "1d44b0fa",
      "metadata": {
        "id": "1d44b0fa"
      },
      "outputs": [],
      "source": [
        "model = Sequential()\n",
        "model.add(Dense(150, input_dim=df_cripto.shape[1], activation='relu'))\n",
        "model.add(Dropout(0.2))\n",
        "model.add(Dense(50, activation='relu'))\n",
        "model.add(Dropout(0.2))\n",
        "model.add(Dense(df_cripto.shape[1], activation='linear'))\n",
        "model.compile(loss='mean_squared_error', optimizer='adam')"
      ]
    },
    {
      "cell_type": "markdown",
      "id": "072f3bc1",
      "metadata": {
        "id": "072f3bc1"
      },
      "source": [
        "<a id='6.4'></a>\n",
        "## 6.4. Обучение и прогнозирование\n"
      ]
    },
    {
      "cell_type": "code",
      "execution_count": null,
      "id": "480a474c",
      "metadata": {
        "id": "480a474c"
      },
      "outputs": [],
      "source": [
        "model.fit(df_cripto.values, df_cripto.values, epochs=150, verbose=0, callbacks=[TqdmCallback(verbose=1)])\n",
        "\n",
        "predictions = model.predict(df_cripto.values)\n"
      ]
    },
    {
      "cell_type": "markdown",
      "id": "399eb8c1",
      "metadata": {
        "id": "399eb8c1"
      },
      "source": [
        "<a id='6.5'></a>\n",
        "## 6.5. Оптимизация портфеля\n",
        "Мы оптимизируем веса в нашем портфеле, используя прогнозы нашей модели.\n"
      ]
    },
    {
      "cell_type": "code",
      "execution_count": null,
      "id": "2fef18f3",
      "metadata": {
        "id": "2fef18f3"
      },
      "outputs": [],
      "source": [
        "def optimize_portfolio(weights):\n",
        "    return -np.dot(weights, predictions[-1])\n",
        "\n",
        "constraints = ({'type': 'eq', 'fun': lambda x: np.sum(x) - 1})\n",
        "bounds = tuple((0,1) for x in range(df_cripto.shape[1]))\n",
        "init_weights = [1./df_cripto.shape[1]]*df_cripto.shape[1]\n",
        "optimized = minimize(optimize_portfolio, init_weights, method='SLSQP', bounds=bounds, constraints=constraints)\n"
      ]
    },
    {
      "cell_type": "markdown",
      "id": "ceda3633",
      "metadata": {
        "id": "ceda3633"
      },
      "source": [
        "<a id='6.6'></a>\n",
        "## 6.6. Вывод оптимальных весов\n"
      ]
    },
    {
      "cell_type": "code",
      "execution_count": null,
      "id": "a36799d4",
      "metadata": {
        "id": "a36799d4"
      },
      "outputs": [],
      "source": [
        "best_weights_rounded = np.round(optimized.x, 4)\n",
        "\n",
        "display(pd.DataFrame({'Crypto': crypto_names, 'Weight': best_weights_rounded}))\n"
      ]
    },
    {
      "cell_type": "markdown",
      "id": "1f4b0ae8",
      "metadata": {
        "id": "1f4b0ae8"
      },
      "source": [
        "<a id='7'></a>\n",
        "# 7. Обработка недавних новостей\n"
      ]
    },
    {
      "cell_type": "markdown",
      "id": "aab62de7",
      "metadata": {
        "id": "aab62de7"
      },
      "source": [
        "<a id='7.1'></a>\n",
        "## 7.1. Описание"
      ]
    },
    {
      "cell_type": "markdown",
      "id": "b944b28b",
      "metadata": {
        "id": "b944b28b"
      },
      "source": [
        "Используем API NewsAPI, которое предоставляет новости о криптовалютах. Новости сортируются по дате публикации. Запросы отправляются для каждой криптовалюты из списка.\n",
        "\n",
        "Для анализа тональность текста используется инструмент SentimentIntensityAnalyzer из библиотеки NLTK, который  возвращает “составной” показатель, который отражает общую эмоциональную окраску текста. Этот показатель рассчитывается для каждой статьи в списке новостей для каждой криптовалюты.\n",
        "\n",
        "К средней доходности каждой криптовалюты добавляется соответствующий показатель тональности. Это предполагает, что эмоциональная окраска новостей может влиять на доходность криптовалюты.\n",
        "\n",
        "Выбор именно такого подхода обусловлен тем, что новости могут оказывать значительное влияние на курс криптовалют. Анализ тональности новостей позволяет учесть этот фактор при расчете ожидаемой доходности."
      ]
    },
    {
      "cell_type": "code",
      "execution_count": null,
      "id": "933a2453",
      "metadata": {
        "id": "933a2453"
      },
      "outputs": [],
      "source": [
        "import requests\n",
        "from bs4 import BeautifulSoup\n",
        "from datetime import datetime, timedelta\n",
        "from nltk.sentiment.vader import SentimentIntensityAnalyzer\n"
      ]
    },
    {
      "cell_type": "markdown",
      "id": "cf31d195",
      "metadata": {
        "id": "cf31d195"
      },
      "source": [
        "<a id='7.2'></a>\n",
        "## 7.2. Функция для получения новостей о криптовалюте\n"
      ]
    },
    {
      "cell_type": "code",
      "execution_count": null,
      "id": "17ce4a9a",
      "metadata": {
        "id": "17ce4a9a"
      },
      "outputs": [],
      "source": [
        "def get_crypto_news(crypto_list, api_key):\n",
        "    news = {crypto: [] for crypto in crypto_list}\n",
        "    for crypto in tqdm(crypto_list):\n",
        "        url = 'https://newsapi.org/v2/everything'\n",
        "        from_date = (datetime.now() - timedelta(days=2)).isoformat()\n",
        "        params = {\n",
        "            'q': f'{crypto}',\n",
        "            'language': 'en',\n",
        "            'sortBy': 'publishedAt',\n",
        "            'from': from_date,\n",
        "            'apiKey': api_key\n",
        "        }\n",
        "        response = requests.get(url, params=params)\n",
        "        data = response.json()\n",
        "        if 'articles' in data:\n",
        "            for article in data['articles']:\n",
        "                news[crypto].append(article['title'])\n",
        "#                 print(article['title'])\n",
        "#                 print(article['url'])\n",
        "#                 print()\n",
        "    return news\n"
      ]
    },
    {
      "cell_type": "markdown",
      "id": "229b8d69",
      "metadata": {
        "id": "229b8d69"
      },
      "source": [
        "<a id='7.3'></a>\n",
        "## 7.3. Получение новостей\n",
        "Мы получаем новости для каждой криптовалюты в нашем списке.\n"
      ]
    },
    {
      "cell_type": "code",
      "execution_count": null,
      "id": "ba77f64a",
      "metadata": {
        "id": "ba77f64a"
      },
      "outputs": [],
      "source": [
        "api_key = '77bfef74c3e34e9c82554a03aaefa63f'\n",
        "crypto_list = df.columns[1:]\n",
        "news = get_crypto_news(crypto_list, api_key)\n"
      ]
    },
    {
      "cell_type": "markdown",
      "id": "ecd0e532",
      "metadata": {
        "id": "ecd0e532"
      },
      "source": [
        "<a id='7.4'></a>\n",
        "## 7.4. Анализ тональности новостей\n",
        "\n",
        "Мы используем SentimentIntensityAnalyzer из библиотеки nltk для анализа тональности каждой новости.\n"
      ]
    },
    {
      "cell_type": "code",
      "source": [
        "import nltk\n",
        "nltk.download('vader_lexicon')"
      ],
      "metadata": {
        "id": "mgfQsJSQ7-M3"
      },
      "id": "mgfQsJSQ7-M3",
      "execution_count": null,
      "outputs": []
    },
    {
      "cell_type": "code",
      "execution_count": null,
      "id": "0e3f7c79",
      "metadata": {
        "id": "0e3f7c79"
      },
      "outputs": [],
      "source": [
        "sia = SentimentIntensityAnalyzer()\n",
        "sentiments = {coin: np.mean([sia.polarity_scores(article)['compound'] for article in news[coin]]) if news[coin] else 0 for coin in news}\n"
      ]
    },
    {
      "cell_type": "markdown",
      "id": "f190bbc3",
      "metadata": {
        "id": "f190bbc3"
      },
      "source": [
        "<a id='7.5'></a>\n",
        "## 7.5. Визуализируем полученную информацию"
      ]
    },
    {
      "cell_type": "code",
      "execution_count": null,
      "id": "5b105c76",
      "metadata": {
        "id": "5b105c76"
      },
      "outputs": [],
      "source": [
        "import matplotlib.pyplot as plt\n",
        "import seaborn as sns"
      ]
    },
    {
      "cell_type": "code",
      "execution_count": null,
      "id": "c383b62a",
      "metadata": {
        "id": "c383b62a"
      },
      "outputs": [],
      "source": [
        "# Устанавливаем стиль и цветовую палитру\n",
        "sns.set_style(\"darkgrid\")\n",
        "color_palette = sns.color_palette(\"coolwarm\", 3)\n",
        "\n",
        "# Создаем словарь цветов для различных тональностей\n",
        "colors = {coin: color_palette[0] if sentiments[coin] < 0 else color_palette[1] if sentiments[coin] == 0 else color_palette[2] for coin in sentiments}\n",
        "\n",
        "# Создаем список криптовалют\n",
        "coins = list(sentiments.keys())\n",
        "\n",
        "# Создаем список тональностей\n",
        "sentiment_values = list(sentiments.values())\n",
        "\n",
        "# Создаем график\n",
        "plt.figure(figsize=(12,6))\n",
        "bars = plt.bar(coins, sentiment_values, color=[colors[coin] for coin in coins])\n",
        "\n",
        "# Добавляем значения над столбцами\n",
        "for bar in bars:\n",
        "    yval = bar.get_height()\n",
        "    plt.text(bar.get_x() + bar.get_width()/2, yval + 0.01, round(yval, 2), ha='center', va='bottom')\n",
        "\n",
        "plt.xlabel('Криптовалюта', fontsize=14)\n",
        "plt.ylabel('Тональность', fontsize=14)\n",
        "plt.title('Влияние новостей на криптовалюты', fontsize=16)\n",
        "plt.xticks(rotation=45)\n",
        "plt.show()\n"
      ]
    },
    {
      "cell_type": "markdown",
      "id": "8ba54457",
      "metadata": {
        "id": "8ba54457"
      },
      "source": [
        "<a id='8'></a>\n",
        "# 8. Метод Марковица + новостной фон"
      ]
    },
    {
      "cell_type": "markdown",
      "id": "a0c5497c",
      "metadata": {
        "id": "a0c5497c"
      },
      "source": [
        "<a id='8.1'></a>\n",
        "## 8.1. Описание"
      ]
    },
    {
      "cell_type": "markdown",
      "id": "82315a60",
      "metadata": {
        "id": "82315a60"
      },
      "source": [
        "Улучшим модель Марковица, добавляя новостной фон (сентименты) в расчеты. Это делается путем добавления сентиментов к средним доходностям в функции portfolio_performance. Сентименты могут быть положительными или отрицательными и отражают общее настроение новостей относительно конкретного актива."
      ]
    },
    {
      "cell_type": "markdown",
      "id": "35e718a1",
      "metadata": {
        "id": "35e718a1"
      },
      "source": [
        "1. Расчет доходности портфеля:\n",
        "\n",
        "$$\\text{returns} = 252 \\times \\sum_{i=1}^{n} w_i \\times (r_i + s_i)$$\n",
        "\n",
        "- $w_i$ - вес i-го актива в портфеле,\n",
        "- $r_i$ - средняя доходность i-го актива,\n",
        "- $s_i$ - сентимент i-го актива,\n",
        "- $n$ - количество активов в портфеле.\n",
        "\n",
        "2. Расчет стандартного отклонения портфеля:\n",
        "\n",
        "$$\\text{std} = \\sqrt{252} \\times \\sqrt{w^T \\cdot C \\cdot w}$$\n",
        "\n",
        "- $w$ - вектор весов активов в портфеле,\n",
        "- $C$ - матрица ковариации доходностей активов.\n",
        "\n",
        "3. Минимизация волатильности:\n",
        "\n",
        "Цель состоит в том, чтобы минимизировать $\\text{std}$, подобрав оптимальные веса $w$.\n",
        "\n",
        "Число 252 используется для преобразования дневных доходностей в годовые. Это стандартная практика в финансовом моделировании, основанная на том, что в среднем в году около 252 торговых дней. Перевод дневной волатильности и доходности в годовые облегчает сравнение и анализ."
      ]
    },
    {
      "cell_type": "markdown",
      "id": "f05ea1b2",
      "metadata": {
        "id": "f05ea1b2"
      },
      "source": [
        "<a id='8.2'></a>\n",
        "## 8.2. Функции для расчета портфельной доходности и волатильности с учетом новостей\n"
      ]
    },
    {
      "cell_type": "code",
      "execution_count": null,
      "id": "4c1c6a05",
      "metadata": {
        "id": "4c1c6a05"
      },
      "outputs": [],
      "source": [
        "def portfolio_performance(weights, mean_returns, cov_matrix, sentiments):\n",
        "    returns = np.dot([mean_returns.get(key, 0) + sentiments.get(key, 0) / 1000 for key in crypto_names], weights) * 252\n",
        "    std = np.sqrt(np.dot(weights.T, np.dot(cov_matrix, weights))) * np.sqrt(252)\n",
        "    return std, returns\n",
        "\n",
        "def maximize_returns(weights, mean_returns, cov_matrix, sentiments):\n",
        "    return -portfolio_performance(weights, mean_returns, cov_matrix, sentiments)[1]\n"
      ]
    },
    {
      "cell_type": "markdown",
      "id": "b409519a",
      "metadata": {
        "id": "b409519a"
      },
      "source": [
        "<a id='8.3'></a>\n",
        "## 8.3. Оптимизация портфеля с учетом новостей\n",
        "\n",
        "Оптимизируем веса в нашем портфеле, используя прогнозы нашей модели и тональность новостей.\n"
      ]
    },
    {
      "cell_type": "code",
      "execution_count": null,
      "id": "be263a34",
      "metadata": {
        "id": "be263a34"
      },
      "outputs": [],
      "source": [
        "# Определите максимальный уровень риска, который вы готовы принять\n",
        "max_risk = 0.2\n",
        "\n",
        "# Количество запусков оптимизации\n",
        "num_runs = 1000\n",
        "best_return = -np.inf\n",
        "best_weights = None\n",
        "\n",
        "for _ in range(num_runs):\n",
        "    # Случайные начальные веса\n",
        "    weights = np.random.random(len(mean_returns))\n",
        "    weights /= np.sum(weights)\n",
        "\n",
        "    # Оптимизация\n",
        "    result = minimize(maximize_returns, weights, args=(mean_returns, cov_matrix, sentiments), method='SLSQP', bounds=[(0.0, 1.0) for asset in range(num_assets)], constraints=[{'type': 'eq', 'fun': lambda x: np.sum(x) - 1}, {'type': 'ineq', 'fun': lambda x: max_risk - portfolio_performance(x, mean_returns, cov_matrix, sentiments)[0]}])\n",
        "\n",
        "    # Если текущий результат лучше предыдущего лучшего, обновляем лучший результат\n",
        "    if -result.fun > best_return:\n",
        "        best_return = -result.fun\n",
        "        best_weights = result.x"
      ]
    },
    {
      "cell_type": "markdown",
      "id": "c2470889",
      "metadata": {
        "id": "c2470889"
      },
      "source": [
        "<a id='8.4'></a>\n",
        "## 8.4. Вывод оптимальных весов\n"
      ]
    },
    {
      "cell_type": "code",
      "execution_count": null,
      "id": "3d617862",
      "metadata": {
        "id": "3d617862"
      },
      "outputs": [],
      "source": [
        "best_weights_rounded = np.round(best_weights, 4)\n",
        "\n",
        "display(pd.DataFrame({'Crypto': crypto_names, 'Weight': best_weights_rounded}))\n"
      ]
    },
    {
      "cell_type": "markdown",
      "id": "7decf1d5",
      "metadata": {
        "id": "7decf1d5"
      },
      "source": [
        "<a id='9'></a>\n",
        "# 9. Обработка новостей за весь промежуток наблюдения"
      ]
    },
    {
      "cell_type": "markdown",
      "id": "03303e04",
      "metadata": {
        "id": "03303e04"
      },
      "source": [
        "<a id='9.1'></a>\n",
        "## 9.1. Описание"
      ]
    },
    {
      "cell_type": "markdown",
      "id": "4fd9f1fe",
      "metadata": {
        "id": "4fd9f1fe"
      },
      "source": [
        "Очевидно, что для понимания того, как новости влиют на курс криптовалют определение тональностей криптовалют за последнее время не самое оптимальное решение. Поэтому пришла идея получить историю новостей, понять каким был новостной фон в разное время и обучить на этих данных нейронную есть. \\\n",
        "Для начала получим DataFrame влияния новостей на криптовалюты."
      ]
    },
    {
      "cell_type": "code",
      "execution_count": null,
      "id": "c8d5bdd5",
      "metadata": {
        "id": "c8d5bdd5"
      },
      "outputs": [],
      "source": [
        "import feedparser\n",
        "from nltk.sentiment.vader import SentimentIntensityAnalyzer"
      ]
    },
    {
      "cell_type": "markdown",
      "id": "aa5dd6ac",
      "metadata": {
        "id": "aa5dd6ac"
      },
      "source": [
        "<a id='9.2'></a>\n",
        "## 9.2. Функция для получения новостей о криптовалюте"
      ]
    },
    {
      "cell_type": "markdown",
      "id": "f808ba4b",
      "metadata": {
        "id": "f808ba4b"
      },
      "source": [
        "Нам придется переписать функцию get_crypto_news, поскольку источник NewsAPI не поредоставляет информацию о старых новостях. Так как мы ограничены бесплатными ресурсами, теперь будем брать новости из Google search."
      ]
    },
    {
      "cell_type": "code",
      "execution_count": null,
      "id": "ef2f46e9",
      "metadata": {
        "id": "ef2f46e9"
      },
      "outputs": [],
      "source": [
        "def get_crypto_news(crypto_list):\n",
        "    news = {crypto: [] for crypto in crypto_list}\n",
        "    for crypto in tqdm(crypto_list):\n",
        "        url = f'https://news.google.com/rss/search?q={crypto}&hl=en-US&gl=US&ceid=US:en'\n",
        "        feed = feedparser.parse(url)\n",
        "        for entry in feed.entries:\n",
        "            news[crypto].append({\n",
        "                'title': entry.title,\n",
        "                'published': entry.published\n",
        "            })\n",
        "    return news\n"
      ]
    },
    {
      "cell_type": "markdown",
      "id": "ff9dc047",
      "metadata": {
        "id": "ff9dc047"
      },
      "source": [
        "<a id='9.3'></a>\n",
        "## 9.3. Функция для построения DataFrame с влиянием новостей"
      ]
    },
    {
      "cell_type": "markdown",
      "id": "94f7de97",
      "metadata": {
        "id": "94f7de97"
      },
      "source": [
        "Функция calculate_news_impact будет расчитывать влияния новостей на криптовалюты. Она принимает DataFrame с данными о криптовалютах и словарь новостей, полученных функцией get_crypto_news. Функция возвращает DataFrame, который содержит влияние каждой новости на соответствующую криптовалюту. Влияние новости рассчитывается как взвешенное значение сентимента новости, где вес обратно пропорционален времени, прошедшему с момента публикации новости."
      ]
    },
    {
      "cell_type": "code",
      "execution_count": null,
      "id": "85a8cfdf",
      "metadata": {
        "id": "85a8cfdf"
      },
      "outputs": [],
      "source": [
        "def calculate_news_impact(df, news):\n",
        "    sia = SentimentIntensityAnalyzer()\n",
        "    news_impact = df.copy()\n",
        "    for crypto in tqdm(df.columns[1:]):\n",
        "        news_impact[crypto] = 0\n",
        "        for article in news[crypto]:\n",
        "            publish_date = datetime.strptime(article['published'], '%a, %d %b %Y %H:%M:%S %Z')\n",
        "            sentiment = sia.polarity_scores(article['title'])\n",
        "            index = news_impact.shape[0] - 1\n",
        "            hours_since_published = (news_impact.timestamp[index] - publish_date).total_seconds() / 3600\n",
        "\n",
        "            while (hours_since_published >= 0 and index >= 0):\n",
        "                weight = 24 / (hours_since_published + 24)\n",
        "                news_impact.loc[index, crypto] += sentiment['compound'] * weight\n",
        "                hours_since_published -= 1\n",
        "                index -= 1\n",
        "\n",
        "    return news_impact\n"
      ]
    },
    {
      "cell_type": "markdown",
      "id": "eafdef27",
      "metadata": {
        "id": "eafdef27"
      },
      "source": [
        "<a id='9.4'></a>\n",
        "## 9.4. Получение новостей и анализ тональности новостей"
      ]
    },
    {
      "cell_type": "markdown",
      "id": "4f6e3a21",
      "metadata": {
        "id": "4f6e3a21"
      },
      "source": [
        "**Нужно включить VPN**, поскольку Google search заблокирован на территории РФ."
      ]
    },
    {
      "cell_type": "code",
      "execution_count": null,
      "id": "76ac770c",
      "metadata": {
        "id": "76ac770c"
      },
      "outputs": [],
      "source": [
        "print('Получение данных')\n",
        "news = get_crypto_news(df.columns[1:])\n",
        "print('Обработка данных')\n",
        "news_impact = calculate_news_impact(df, news)\n"
      ]
    },
    {
      "cell_type": "markdown",
      "id": "ba9fa2d8",
      "metadata": {
        "id": "ba9fa2d8"
      },
      "source": [
        "<a id='9.5'></a>\n",
        "## 9.5. Визуализация полученной информации"
      ]
    },
    {
      "cell_type": "code",
      "execution_count": null,
      "id": "995d57ea",
      "metadata": {
        "id": "995d57ea"
      },
      "outputs": [],
      "source": [
        "import plotly.graph_objects as go\n",
        "\n",
        "fig = go.Figure()\n",
        "df_temp = news_impact.copy()\n",
        "\n",
        "for crypto in df.columns[1:]:\n",
        "    if crypto != 'timestamp':\n",
        "        # Удаление строк с отсутствующими данными\n",
        "        df_temp.dropna(subset=[crypto], inplace=True)\n",
        "        fig.add_trace(go.Scatter(x=df_temp['timestamp'], y=df_temp[crypto], mode='lines', name=crypto))\n",
        "\n",
        "fig.update_layout(\n",
        "    title='Влияние новостного фона на криптовалюты',\n",
        "    xaxis_title='Дата',\n",
        "    yaxis_title='Влияние новостей',\n",
        "    plot_bgcolor='rgb(10,10,10)',\n",
        "    paper_bgcolor='rgb(10,10,10)',\n",
        "    font=dict(color='rgb(255,255,255)'),\n",
        "    hovermode='x',\n",
        "    autosize=True,\n",
        "    margin=dict(l=30, r=30, b=20, t=40),\n",
        "    legend=dict(font=dict(size=10), yanchor='middle', xanchor='right'),\n",
        ")\n",
        "\n",
        "\n",
        "fig.show()\n"
      ]
    },
    {
      "cell_type": "markdown",
      "id": "1750bc36",
      "metadata": {
        "id": "1750bc36"
      },
      "source": [
        "<a id='10'></a>\n",
        "# 10. Нейросеть + новостной фон"
      ]
    },
    {
      "cell_type": "markdown",
      "id": "160f35fe",
      "metadata": {
        "id": "160f35fe"
      },
      "source": [
        "<a id='10.1'></a>\n",
        "## 10.1. Описание"
      ]
    },
    {
      "cell_type": "markdown",
      "id": "31ca087e",
      "metadata": {
        "id": "31ca087e"
      },
      "source": [
        "Теперь у нас есть DataFrame влияния новостей на криптовалюты. используем эти данные для обучения модели. Так же немного модифицируем саму модель. Вместо курса цен криптовалют возьмем процентное изменение цен. В качестве X_train будем подавать окана данных за последние 24 часа для получения оптимального портфеля на следующий час.\n",
        "\n",
        "Единственное не совсем понятной функцией является функция для построения портфеля при известных доходах. Поскольку не совсем понятно какой портфель не просто принес бы хорошую прибыль, но и снизил риски. Не знаю, на сколько функция приведенная ниже оптимальна, но она точно неплохая.\n",
        "\n",
        "Так же можно вместо предсказания оптимального портфеля предсказывать на сколько изменится курс каждой криптовалюты, а затем брать с максимальной прибытью. Нейронная сеть, выполняющая такие предсказания реализована в финальной модели."
      ]
    },
    {
      "cell_type": "markdown",
      "id": "c968172e",
      "metadata": {
        "id": "c968172e"
      },
      "source": [
        "<a id='10.2'></a>\n",
        "## 10.2. Подготовка данных\n",
        "\n",
        "Объединяем данные о курсе криптовалют и новостном фоне в один датафрейм. \\\n",
        "Вместо цен криптовалют будем использовать их процентное изменение."
      ]
    },
    {
      "cell_type": "code",
      "execution_count": null,
      "id": "c0c77879",
      "metadata": {
        "id": "c0c77879"
      },
      "outputs": [],
      "source": [
        "# Переименовываем столбцы в news_impact, добавляя суффикс '_news'\n",
        "news_impact.columns = [col + '_news' if col != 'timestamp' else col for col in news_impact.columns]"
      ]
    },
    {
      "cell_type": "code",
      "execution_count": null,
      "id": "edf306a2",
      "metadata": {
        "id": "edf306a2"
      },
      "outputs": [],
      "source": [
        "# Объединяем df и news_impact по timestamp\n",
        "df_big = pd.merge(df, news_impact, on='timestamp', how='outer')"
      ]
    },
    {
      "cell_type": "code",
      "execution_count": null,
      "id": "2049108f",
      "metadata": {
        "id": "2049108f"
      },
      "outputs": [],
      "source": [
        "# Удаление столбца timestamp\n",
        "df_big.drop('timestamp', axis=1, inplace=True)\n",
        "\n",
        "# Заполнение пропущенных значений средними значениями соседних значений\n",
        "df_big[crypto_names] = df_big[crypto_names].interpolate(method='linear', limit_direction='forward')\n",
        "\n",
        "# Вычисление процентного изменения\n",
        "df_big = df_big.pct_change()\n",
        "\n",
        "# Удаление первой строки, которая теперь содержит NaN из-за pct_change()\n",
        "df_big = df_big.iloc[1:]\n",
        "\n",
        "# Замена inf значений на максимальное значение в данных\n",
        "max_val = df_big[~np.isinf(df_big)].max().max()\n",
        "df_big = df_big.replace([np.inf, -np.inf], max_val)\n",
        "\n",
        "#Заменяем значения NaN на 0, которые могли отсться в столбцах с новостным фоном\n",
        "df_big = df_big.fillna(0)\n"
      ]
    },
    {
      "cell_type": "code",
      "execution_count": null,
      "id": "4c317e40",
      "metadata": {
        "id": "4c317e40"
      },
      "outputs": [],
      "source": [
        "df_big"
      ]
    },
    {
      "cell_type": "markdown",
      "id": "6e40e0df",
      "metadata": {
        "id": "6e40e0df"
      },
      "source": [
        "<a id='10.3'></a>\n",
        "## 10.3. Фнункия для построения портфеля при известных доходах"
      ]
    },
    {
      "cell_type": "markdown",
      "id": "75617cd2",
      "metadata": {
        "id": "75617cd2"
      },
      "source": [
        "Используем модель Марковица для нахождения оптимального портфеля"
      ]
    },
    {
      "cell_type": "code",
      "execution_count": null,
      "id": "7b7c492a",
      "metadata": {
        "id": "7b7c492a"
      },
      "outputs": [],
      "source": [
        "def portfolio_performance(weights, mean_returns, cov_matrix):\n",
        "    returns = np.sum(mean_returns*weights)*252\n",
        "    std = np.sqrt(np.dot(weights.T, np.dot(cov_matrix, weights)))*np.sqrt(252)\n",
        "    return std, returns\n",
        "\n",
        "def maximize_returns(weights, mean_returns, cov_matrix):\n",
        "    return -portfolio_performance(weights, mean_returns, cov_matrix)[1]\n"
      ]
    },
    {
      "cell_type": "code",
      "execution_count": null,
      "id": "e90744a0",
      "metadata": {
        "id": "e90744a0"
      },
      "outputs": [],
      "source": [
        "def get_investment_weights(future_returns):\n",
        "\n",
        "    # Определите максимальный уровень риска, который вы готовы принять\n",
        "    max_risk = 0.2\n",
        "\n",
        "    num_runs = 3\n",
        "    best_return = -np.inf\n",
        "    best_weights = None\n",
        "\n",
        "    for _ in range(num_runs):\n",
        "        # Случайные начальные веса\n",
        "        weights = np.random.random(len(future_returns))\n",
        "        weights /= np.sum(weights)\n",
        "\n",
        "        # Оптимизация\n",
        "        result = minimize(maximize_returns, weights, args=(future_returns, cov_matrix), method='SLSQP', bounds=[(0.0, 1.0) for asset in range(len(weights))], constraints=[{'type': 'eq', 'fun': lambda x: np.sum(x) - 1}, {'type': 'ineq', 'fun': lambda x: max_risk - portfolio_performance(x, future_returns, cov_matrix)[0]}])\n",
        "\n",
        "        # Если текущий результат лучше предыдущего лучшего, обновляем лучший результат\n",
        "        if -result.fun > best_return:\n",
        "            best_return = -result.fun\n",
        "            best_weights = result.x\n",
        "\n",
        "    return best_weights"
      ]
    },
    {
      "cell_type": "markdown",
      "id": "4046af26",
      "metadata": {
        "id": "4046af26"
      },
      "source": [
        "Можно просто смотреть какая из криптовалют увеличется больше всего и брать только ее. \\\n",
        "Так быстрее, но возможно у такого портфеля слишком большой риск."
      ]
    },
    {
      "cell_type": "code",
      "execution_count": null,
      "id": "4918e4aa",
      "metadata": {
        "id": "4918e4aa"
      },
      "outputs": [],
      "source": [
        "# def get_investment_weights(future_returns):\n",
        "\n",
        "#     investment_weights = future_returns.copy()\n",
        "#     max_val = investment_weights.max().max()\n",
        "#     investment_weights[investment_weights != max_val] = 0\n",
        "#     investment_weights[investment_weights == max_val] = 1\n",
        "\n",
        "#     # Если у нас несколько максимальных значений\n",
        "#     investment_weights = investment_weights / investment_weights.sum().sum()\n",
        "#     return investment_weights"
      ]
    },
    {
      "cell_type": "markdown",
      "id": "dda55c22",
      "metadata": {
        "id": "dda55c22"
      },
      "source": [
        "<a id='10.4'></a>\n",
        "## 10.4. Создание обучающих данных"
      ]
    },
    {
      "cell_type": "markdown",
      "id": "c188ebc1",
      "metadata": {
        "id": "c188ebc1"
      },
      "source": [
        "Для каждого временного окна (размером window_size) используются прошлые данные (X_train) для предсказания весов инвестиций (y_train) на следующем шаге (то есть через час)."
      ]
    },
    {
      "cell_type": "code",
      "execution_count": null,
      "id": "c8122de4",
      "metadata": {
        "id": "c8122de4"
      },
      "outputs": [],
      "source": [
        "window_size = 24\n",
        "X_train = []\n",
        "y_train = []\n",
        "\n",
        "for i in tqdm(range(window_size, len(df_big))):\n",
        "    X_train.append(df_big[i-window_size:i].values)\n",
        "\n",
        "    future_returns = df_big[crypto_names][i:i+1].squeeze()\n",
        "    investment_weights = get_investment_weights(future_returns)\n",
        "    y_train.append(investment_weights)\n",
        "\n",
        "X_train, y_train = np.array(X_train), np.array(y_train)"
      ]
    },
    {
      "cell_type": "markdown",
      "id": "b4614a7c",
      "metadata": {
        "id": "b4614a7c"
      },
      "source": [
        "<a id='10.5'></a>\n",
        "## 10.5. Создание модели"
      ]
    },
    {
      "cell_type": "markdown",
      "id": "13609056",
      "metadata": {
        "id": "13609056"
      },
      "source": [
        "Модель LSTM с двумя слоями. Также добавим слои Dropout после каждого слоя LSTM для предотвращения переобучения. Выходной слой имеет столько нейронов, сколько у вас есть криптовалют, и использует функцию активации softmax для преобразования выходных данных в вероятности (чтобы сумма равнялась 1, и все значения были неотрицательны). Использованием оптимизатор Adam и функции потерь категориальной кросс-энтропии."
      ]
    },
    {
      "cell_type": "code",
      "execution_count": null,
      "id": "094bdc51",
      "metadata": {
        "id": "094bdc51"
      },
      "outputs": [],
      "source": [
        "import requests\n",
        "from datetime import datetime, timedelta\n",
        "from nltk.sentiment.vader import SentimentIntensityAnalyzer\n",
        "from keras.models import Sequential\n",
        "from keras.layers import Dense, Dropout, LSTM, Activation\n",
        "from keras.callbacks import EarlyStopping, ReduceLROnPlateau"
      ]
    },
    {
      "cell_type": "code",
      "execution_count": null,
      "id": "e91b1bcc",
      "metadata": {
        "scrolled": false,
        "id": "e91b1bcc"
      },
      "outputs": [],
      "source": [
        "# Создание модели\n",
        "model = Sequential()\n",
        "\n",
        "# Добавление слоя LSTM\n",
        "model.add(LSTM(units=y_train.shape[1] * 10, return_sequences=True, input_shape=(X_train.shape[1], X_train.shape[2])))\n",
        "model.add(Dropout(0.2))\n",
        "\n",
        "# Добавление еще одного слоя LSTM\n",
        "model.add(LSTM(units=y_train.shape[1] * 10))\n",
        "model.add(Dropout(0.2))\n",
        "\n",
        "# Добавление выходного слоя\n",
        "model.add(Dense(units=y_train.shape[1]))\n",
        "model.add(Activation('softmax'))  # Добавление функции активации softmax\n",
        "\n",
        "# Компиляция модели\n",
        "model.compile(optimizer='adam', loss='categorical_crossentropy')  # Изменение функции потерь на категориальную кросс-энтропию\n",
        "\n",
        "# создание колбеков\n",
        "early_stopping = EarlyStopping(monitor='val_loss', patience=4)\n",
        "reduce_lr = ReduceLROnPlateau(monitor='val_loss', factor=0.2, patience=5)\n",
        "\n",
        "# обучение модели\n",
        "model.fit(X_train, y_train, epochs=100, batch_size=32, validation_split=0.2, callbacks=[early_stopping, reduce_lr])\n"
      ]
    },
    {
      "cell_type": "markdown",
      "id": "6b858ba5",
      "metadata": {
        "id": "6b858ba5"
      },
      "source": [
        "<a id='10.6'></a>\n",
        "## 10.6. Вывод оптимальных весов"
      ]
    },
    {
      "cell_type": "code",
      "execution_count": null,
      "id": "cf4a0286",
      "metadata": {
        "id": "cf4a0286"
      },
      "outputs": [],
      "source": [
        "# Подготовка данных для предсказания\n",
        "X_test = df_big[len(df_big) - 1 - window_size:len(df_big) - 1].values.reshape(1, window_size, 18)\n",
        "\n",
        "# Получение предсказания\n",
        "prediction = model.predict(X_test)[0]\n",
        "\n",
        "prediction_rounded = np.round(prediction, 6)\n",
        "\n",
        "display(pd.DataFrame({'Crypto': crypto_names, 'Weight': prediction_rounded}))\n"
      ]
    },
    {
      "cell_type": "markdown",
      "id": "85d8d0b0",
      "metadata": {
        "id": "85d8d0b0"
      },
      "source": [
        "<a id='11'></a>\n",
        "# 11. Итоговая модель"
      ]
    },
    {
      "cell_type": "markdown",
      "id": "ad17adca",
      "metadata": {
        "id": "ad17adca"
      },
      "source": [
        "<a id='11.1'></a>\n",
        "## 11.1. Описание"
      ]
    },
    {
      "cell_type": "markdown",
      "id": "a65450e1",
      "metadata": {
        "id": "a65450e1"
      },
      "source": [
        "Идея: скомбинировать результаты нейросети и модель Марковица, поскольку модель Марковица лучше подходит для оптимизации портфеля, а нейросеть лучше справляется и обработкой новостей.\n",
        "\n",
        "Для того чтобы модель Марковица могла учитывать результат нейросети, будем предсказывать не оптимальный портфель, а то на сколько изменится курс криптовалют.\n",
        "\n",
        "- Перепишем нейронную сеть для новой задачи\n",
        "- Напишем модель Марковица, которая будет опираться на результаты предсказания нейронной сети"
      ]
    },
    {
      "cell_type": "markdown",
      "id": "5b8167a4",
      "metadata": {
        "id": "5b8167a4"
      },
      "source": [
        "<a id='11.2'></a>\n",
        "## 11.2. Создание обучающих данных"
      ]
    },
    {
      "cell_type": "code",
      "execution_count": null,
      "id": "f4db1ab0",
      "metadata": {
        "id": "f4db1ab0"
      },
      "outputs": [],
      "source": [
        "window_size = 24\n",
        "X_train = []\n",
        "y_train = []\n",
        "\n",
        "for i in range(window_size, len(df_big) - 1):\n",
        "    X_train.append(df_big[i-window_size:i].values)\n",
        "    y_train.append(df_big[crypto_names][i:i+1].values.flatten())\n",
        "\n",
        "X_train, y_train = np.array(X_train), np.array(y_train)\n"
      ]
    },
    {
      "cell_type": "markdown",
      "id": "efbbdf03",
      "metadata": {
        "id": "efbbdf03"
      },
      "source": [
        "<a id='11.3'></a>\n",
        "## 11.3. Создание модели"
      ]
    },
    {
      "cell_type": "code",
      "execution_count": null,
      "id": "5850d194",
      "metadata": {
        "id": "5850d194"
      },
      "outputs": [],
      "source": [
        "from tensorflow.keras.models import Sequential\n",
        "from tensorflow.keras.layers import LSTM, Dense, Dropout\n",
        "from tensorflow.keras.regularizers import L1L2\n",
        "from tensorflow.keras.callbacks import EarlyStopping, ReduceLROnPlateau"
      ]
    },
    {
      "cell_type": "code",
      "execution_count": null,
      "id": "1634e640",
      "metadata": {
        "id": "1634e640"
      },
      "outputs": [],
      "source": [
        "# определение размера входных данных\n",
        "input_shape = (window_size, X_train.shape[2])\n",
        "\n",
        "# создание модели\n",
        "model = Sequential()\n",
        "model.add(LSTM(y_train.shape[1] * 5, return_sequences=True, input_shape=input_shape, kernel_regularizer=L1L2(l1=0.01, l2=0.01)))\n",
        "model.add(Dropout(0.2))\n",
        "model.add(LSTM(y_train.shape[1] * 5, return_sequences=False, kernel_regularizer=L1L2(l1=0.01, l2=0.01)))\n",
        "model.add(Dropout(0.2))\n",
        "model.add(Dense(y_train.shape[1]))\n",
        "\n",
        "# компиляция модели\n",
        "model.compile(optimizer='adam', loss='mean_squared_error')\n",
        "\n",
        "# создание колбеков\n",
        "early_stopping = EarlyStopping(monitor='val_loss', patience=4)\n",
        "reduce_lr = ReduceLROnPlateau(monitor='val_loss', factor=0.2, patience=5)\n",
        "\n",
        "# обучение модели\n",
        "model.fit(X_train, y_train, epochs=50, batch_size=32, validation_split=0.2, callbacks=[early_stopping, reduce_lr])\n"
      ]
    },
    {
      "cell_type": "markdown",
      "id": "eca63a81",
      "metadata": {
        "id": "eca63a81"
      },
      "source": [
        "<a id='11.4'></a>\n",
        "## 11.4. Предсказание изменения курса"
      ]
    },
    {
      "cell_type": "code",
      "execution_count": null,
      "id": "1db61618",
      "metadata": {
        "id": "1db61618"
      },
      "outputs": [],
      "source": [
        "prediction = model.predict(X_test)[0]\n",
        "\n",
        "prediction_rounded = np.round(prediction, 6)\n",
        "\n",
        "display(pd.DataFrame({'Crypto': crypto_names, 'Weight': prediction_rounded}))"
      ]
    },
    {
      "cell_type": "markdown",
      "id": "ceef8429",
      "metadata": {
        "id": "ceef8429"
      },
      "source": [
        "<a id='11.5'></a>\n",
        "## 11.5. Метод Марковица"
      ]
    },
    {
      "cell_type": "code",
      "execution_count": null,
      "id": "c4a2543c",
      "metadata": {
        "id": "c4a2543c"
      },
      "outputs": [],
      "source": [
        "import numpy as np\n",
        "from scipy.optimize import minimize\n",
        "import pandas as pd"
      ]
    },
    {
      "cell_type": "markdown",
      "id": "adf210c2",
      "metadata": {
        "id": "adf210c2"
      },
      "source": [
        "В качестве ожидаемой доходности будем передавать наше предсказание"
      ]
    },
    {
      "cell_type": "code",
      "execution_count": null,
      "id": "1e4f688b",
      "metadata": {
        "id": "1e4f688b"
      },
      "outputs": [],
      "source": [
        "# Функция для расчета портфельной доходности и волатильности\n",
        "def portfolio_performance(weights, expected_returns, cov_matrix):\n",
        "    returns = np.sum(expected_returns*weights)*252\n",
        "    std = np.sqrt(np.dot(weights.T, np.dot(cov_matrix, weights)))*np.sqrt(252)\n",
        "    return std, returns\n",
        "\n",
        "# Функция для максимизации ожидаемой доходности\n",
        "def maximize_returns(weights, expected_returns, cov_matrix):\n",
        "    return -portfolio_performance(weights, expected_returns, cov_matrix)[1]\n",
        "\n"
      ]
    },
    {
      "cell_type": "code",
      "execution_count": null,
      "id": "6cdfe96e",
      "metadata": {
        "id": "6cdfe96e"
      },
      "outputs": [],
      "source": [
        "df_cripto = df.drop(columns=['timestamp'])\n",
        "\n",
        "# Преобразуем прогнозы в ожидаемые доходности\n",
        "expected_returns = pd.Series(prediction, index=crypto_names)\n"
      ]
    },
    {
      "cell_type": "code",
      "execution_count": null,
      "id": "d7b267ec",
      "metadata": {
        "id": "d7b267ec"
      },
      "outputs": [],
      "source": [
        "expected_returns"
      ]
    },
    {
      "cell_type": "code",
      "execution_count": null,
      "id": "f8dcd0a3",
      "metadata": {
        "id": "f8dcd0a3"
      },
      "outputs": [],
      "source": [
        "# Максимальный уровень риска\n",
        "max_risk = 0.2\n",
        "\n",
        "num_runs = 1000\n",
        "best_return = -np.inf\n",
        "best_weights = None\n",
        "\n",
        "for _ in tqdm(range(num_runs)):\n",
        "    # Случайные начальные веса\n",
        "    weights = np.random.random(len(crypto_names))\n",
        "    weights /= np.sum(weights)\n",
        "\n",
        "    # Оптимизация\n",
        "    result = minimize(maximize_returns, weights, args=(expected_returns, cov_matrix), method='SLSQP', bounds=[(0.0, 1.0) for asset in range(num_assets)], constraints=[{'type': 'eq', 'fun': lambda x: np.sum(x) - 1}, {'type': 'ineq', 'fun': lambda x: max_risk - portfolio_performance(x, expected_returns, cov_matrix)[0]}])\n",
        "\n",
        "    # Если текущий результат лучше предыдущего лучшего, обновляем лучший результат\n",
        "    if -result.fun > best_return:\n",
        "        best_return = -result.fun\n",
        "        best_weights = result.x\n",
        "\n"
      ]
    },
    {
      "cell_type": "markdown",
      "id": "1acf2dc3",
      "metadata": {
        "id": "1acf2dc3"
      },
      "source": [
        "<a id='11.6'></a>\n",
        "## 11.6. Вывод оптимальных весов"
      ]
    },
    {
      "cell_type": "code",
      "execution_count": null,
      "id": "d3f043eb",
      "metadata": {
        "id": "d3f043eb"
      },
      "outputs": [],
      "source": [
        "best_weights_rounded = np.round(best_weights, 4)\n",
        "\n",
        "display(pd.DataFrame({'Crypto': crypto_names, 'Weight': best_weights_rounded}))"
      ]
    }
  ],
  "metadata": {
    "kernelspec": {
      "display_name": "Python 3 (ipykernel)",
      "language": "python",
      "name": "python3"
    },
    "language_info": {
      "codemirror_mode": {
        "name": "ipython",
        "version": 3
      },
      "file_extension": ".py",
      "mimetype": "text/x-python",
      "name": "python",
      "nbconvert_exporter": "python",
      "pygments_lexer": "ipython3",
      "version": "3.9.12"
    },
    "colab": {
      "provenance": []
    }
  },
  "nbformat": 4,
  "nbformat_minor": 5
}